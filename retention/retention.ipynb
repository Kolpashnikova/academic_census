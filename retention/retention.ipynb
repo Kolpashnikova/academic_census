{
 "cells": [
  {
   "cell_type": "code",
   "execution_count": 1,
   "metadata": {},
   "outputs": [],
   "source": [
    "import sys\n",
    "sys.path.append('/Users/allisonmorgan/Code/src/github.com/samfway/')"
   ]
  },
  {
   "cell_type": "code",
   "execution_count": 2,
   "metadata": {},
   "outputs": [],
   "source": [
    "import csv\n",
    "import numpy as np\n",
    "import scipy as sp\n",
    "import pandas as pd\n",
    "import seaborn as sns\n",
    "import os\n",
    "import random\n",
    "import matplotlib\n",
    "\n",
    "from matplotlib_venn import venn2\n",
    "from faculty_hiring.misc.plotting import *  # Definitions for LABEL_SIZE and such\n",
    "from faculty_hiring.misc.util import *\n",
    "from faculty_hiring.parse import faculty_parser, institution_parser\n",
    "from faculty_hiring.parse import load"
   ]
  },
  {
   "cell_type": "code",
   "execution_count": 3,
   "metadata": {},
   "outputs": [],
   "source": [
    "# Load the data set\n",
    "faculty_2011 = []; names_2011 = [];\n",
    "faculty_2017 = []; names_2017 = [];\n",
    "retained = []; names_retained = [];\n",
    "with open('../data/faculty.csv') as csvfile:\n",
    "    reader = csv.DictReader(csvfile, fieldnames=[\"\", \"title_2011\", \"place_2011\", \"title_2017\", \"place_2017\", \"sex\", \"guid\"], delimiter = \",\")\n",
    "    for i, row in enumerate(reader):\n",
    "        if i == 0: continue\n",
    "        if len(row[\"title_2011\"]) > 0:\n",
    "            faculty_2011.append(row)\n",
    "            names_2011.append(row[\"guid\"])\n",
    "        if len(row[\"title_2017\"]) > 0:\n",
    "            faculty_2017.append(row)\n",
    "            names_2017.append(row[\"guid\"])\n",
    "        if len(row[\"title_2011\"]) > 0 and len(row[\"title_2017\"]) > 0:\n",
    "            retained.append(row)\n",
    "            names_retained.append(row[\"guid\"])"
   ]
  },
  {
   "cell_type": "code",
   "execution_count": 4,
   "metadata": {},
   "outputs": [
    {
     "name": "stdout",
     "output_type": "stream",
     "text": [
      "(5017, 5237, 3461)\n"
     ]
    }
   ],
   "source": [
    "print(len(faculty_2011), len(faculty_2017), len(retained))"
   ]
  },
  {
   "cell_type": "code",
   "execution_count": 5,
   "metadata": {
    "scrolled": true
   },
   "outputs": [
    {
     "name": "stderr",
     "output_type": "stream",
     "text": [
      "/anaconda2/lib/python2.7/site-packages/matplotlib/font_manager.py:1316: UserWarning: findfont: Font family [u'sans-serif'] not found. Falling back to DejaVu Sans\n",
      "  (prop.get_family(), self.defaultFamily[fontext]))\n",
      "/anaconda2/lib/python2.7/site-packages/matplotlib/font_manager.py:1316: UserWarning: findfont: Font family [u'sans'] not found. Falling back to DejaVu Sans\n",
      "  (prop.get_family(), self.defaultFamily[fontext]))\n"
     ]
    },
    {
     "data": {
      "image/png": "[encoded data removed]",
      "text/plain": [
       "<matplotlib.figure.Figure at 0x1a15097fd0>"
      ]
     },
     "metadata": {},
     "output_type": "display_data"
    }
   ],
   "source": [
    "# Plot the venn diagram\n",
    "outer_left_bound = len(faculty_2011); inner_left_bound = len(faculty_2011) - len(retained);\n",
    "inner_right_bound = len(retained) + len(faculty_2017); #outer_right_bound = len(new)\n",
    "\n",
    "fig, ax = plt.subplots(figsize=(6.0, 4.0))\n",
    "v = venn2([set(range(0, outer_left_bound)), set(range(inner_left_bound, inner_right_bound))], set_labels=(\"\",\"\"))\n",
    "\n",
    "font = {'family' : 'sans', 'sans-serif': 'Helvetica', 'size': LEGEND_SIZE}\n",
    "matplotlib.rc('font', **font)\n",
    "\n",
    "v.patches[0].set_color('gray')\n",
    "v.patches[0].set_alpha(0.71)\n",
    "v.patches[1].set_color('#fdb863')\n",
    "v.patches[1].set_alpha(1.0)\n",
    "v.patches[2].set_color('#e66101')\n",
    "v.patches[2].set_alpha(1.0)\n",
    "\n",
    "v.subset_labels[0].set_text('%0.0f' % (inner_left_bound))\n",
    "v.subset_labels[0].set_fontsize(LABEL_SIZE) \n",
    "v.subset_labels[1].set_text('%0.0f' % (len(faculty_2017) - len(retained)))\n",
    "v.subset_labels[1].set_fontsize(LABEL_SIZE) \n",
    "# v.subset_labels[2].set_text('\\n\\n%0.0f\\n\\n\\n%0.1f%% of 2011\\n%0.1f%% of 2017\\nCensuses\\n' % (3509, 3509*100./(len(old)), 3509*100./(len(new))))\n",
    "v.subset_labels[2].set_fontsize(LABEL_SIZE) \n",
    "\n",
    "plt.annotate('%0.1f%% of\\n2011 Census' % (inner_left_bound*100/(len(faculty_2011))), fontsize=LABEL_SIZE, xy=v.subset_labels[0].get_position() - np.array([0, 0.05]), xytext=(-70,-70), ha='center', textcoords='offset points', bbox=dict(boxstyle='round,pad=0.5', fc=ALMOST_BLACK, alpha=0.0), arrowprops=dict(linewidth=2, arrowstyle='->', connectionstyle='arc3,rad=0.5',color=ALMOST_BLACK))\n",
    "plt.annotate('%0.1f%% of\\n2017 Census' % ((len(faculty_2017) - len(retained))*100/(len(faculty_2011))), fontsize=LABEL_SIZE, xy=v.subset_labels[1].get_position() - np.array([0, -0.05]), xytext=(70,70), ha='center', textcoords='offset points', bbox=dict(boxstyle='round,pad=0.5', fc=ALMOST_BLACK, alpha=0.0), arrowprops=dict(linewidth=2, arrowstyle='->', connectionstyle='arc3,rad=0.5', color=ALMOST_BLACK))\n",
    "\n",
    "plt.annotate('2017 Census', fontsize=LABEL_SIZE, xy=[0.25,-0.57])\n",
    "plt.annotate('2011 Census', fontsize=LABEL_SIZE, xy=[-0.65,-0.57])\n",
    "\n",
    "#plt.tight_layout()\n",
    "finalize(ax)\n",
    "plt.show()"
   ]
  },
  {
   "cell_type": "markdown",
   "metadata": {},
   "source": [
    "## Adjust for error"
   ]
  },
  {
   "cell_type": "code",
   "execution_count": 6,
   "metadata": {},
   "outputs": [],
   "source": [
    "new = [f for f in faculty_2017 if f['guid'] not in names_retained]\n",
    "gone = [f for f in faculty_2011 if f['guid'] not in names_retained]"
   ]
  },
  {
   "cell_type": "code",
   "execution_count": 7,
   "metadata": {},
   "outputs": [],
   "source": [
    "new_asst = len([f for f in new if f['title_2017'] == 'Assistant Professor'])\n",
    "new_assoc = len([f for f in new if f['title_2017'] == 'Associate Professor'])\n",
    "new_full = len([f for f in new if f['title_2017'] == 'Full Professor'])"
   ]
  },
  {
   "cell_type": "code",
   "execution_count": 8,
   "metadata": {},
   "outputs": [],
   "source": [
    "asst_asst = 0; asst_assoc = 0; asst_full = 0;\n",
    "assoc_asst = 0; assoc_assoc = 0; assoc_full = 0; \n",
    "full_asst = 0; full_assoc = 0; full_full = 0;\n",
    "with open('../data/faculty.csv') as csvfile:\n",
    "    reader = csv.DictReader(csvfile, [\"\", \"title_2011\", \"place_2011\", \"title_2017\", \"place_2017\", \"sex\", \"guid\"], delimiter = \",\")\n",
    "    for i, row in enumerate(reader):\n",
    "        if i == 0: continue\n",
    "        if row['title_2011'] == 'Assistant Professor':\n",
    "            if row['title_2017'] == 'Assistant Professor': asst_asst += 1\n",
    "            elif row['title_2017'] == 'Associate Professor': asst_assoc += 1\n",
    "            elif row['title_2017'] == 'Full Professor': asst_full += 1\n",
    "        elif row['title_2011'] == 'Associate Professor':\n",
    "            if row['title_2017'] == 'Assistant Professor': assoc_asst += 1\n",
    "            elif row['title_2017'] == 'Associate Professor': assoc_assoc += 1\n",
    "            elif row['title_2017'] == 'Full Professor': assoc_full += 1\n",
    "        elif row['title_2011'] == 'Full Professor':\n",
    "            if row['title_2017'] == 'Assistant Professor': full_asst += 1\n",
    "            elif row['title_2017'] == 'Associate Professor': full_assoc += 1\n",
    "            elif row['title_2017'] == 'Full Professor': full_full += 1"
   ]
  },
  {
   "cell_type": "code",
   "execution_count": 9,
   "metadata": {},
   "outputs": [],
   "source": [
    "asst_gone = len([f for f in gone if f['title_2011'] == 'Assistant Professor'])\n",
    "assoc_gone = len([f for f in gone if f['title_2011'] == 'Associate Professor'])\n",
    "full_gone = len([f for f in gone if f['title_2011'] == 'Full Professor'])"
   ]
  },
  {
   "cell_type": "code",
   "execution_count": 10,
   "metadata": {},
   "outputs": [
    {
     "name": "stdout",
     "output_type": "stream",
     "text": [
      "((1083, 272, 421, 0), (104, 438, 55, 260), (0, 703, 582, 481), (0, 0, 1579, 815))\n"
     ]
    }
   ],
   "source": [
    "print((new_asst, new_assoc, new_full, 0), \n",
    "      (asst_asst, asst_assoc, asst_full, asst_gone), \n",
    "      (assoc_asst, assoc_assoc, assoc_full, assoc_gone),\n",
    "      (full_asst, full_assoc, full_full, full_gone))"
   ]
  },
  {
   "cell_type": "code",
   "execution_count": 11,
   "metadata": {},
   "outputs": [],
   "source": [
    "x = {'New -> Asst': new_asst, 'New -> Assoc': new_assoc, 'New -> Full': new_full, 'New -> Gone': 0,\n",
    "     'Asst -> Asst': asst_asst, 'Asst -> Assoc': asst_assoc, 'Asst -> Full': asst_full, 'Asst -> Gone': asst_gone,\n",
    "     'Assoc -> Asst': assoc_asst, 'Assoc -> Assoc': assoc_assoc, 'Assoc -> Full': assoc_full, 'Assoc -> Gone': assoc_gone,\n",
    "     'Full -> Asst': full_asst, 'Full -> Assoc': full_assoc, 'Full -> Full': full_full, 'Full -> Gone': full_gone}"
   ]
  },
  {
   "cell_type": "code",
   "execution_count": 12,
   "metadata": {},
   "outputs": [
    {
     "data": {
      "text/plain": [
       "{'Assoc -> Assoc': 703,\n",
       " 'Assoc -> Asst': 0,\n",
       " 'Assoc -> Full': 582,\n",
       " 'Assoc -> Gone': 481,\n",
       " 'Asst -> Assoc': 438,\n",
       " 'Asst -> Asst': 104,\n",
       " 'Asst -> Full': 55,\n",
       " 'Asst -> Gone': 260,\n",
       " 'Full -> Assoc': 0,\n",
       " 'Full -> Asst': 0,\n",
       " 'Full -> Full': 1579,\n",
       " 'Full -> Gone': 815,\n",
       " 'New -> Assoc': 272,\n",
       " 'New -> Asst': 1083,\n",
       " 'New -> Full': 421,\n",
       " 'New -> Gone': 0}"
      ]
     },
     "execution_count": 12,
     "metadata": {},
     "output_type": "execute_result"
    }
   ],
   "source": [
    "x"
   ]
  },
  {
   "cell_type": "code",
   "execution_count": 13,
   "metadata": {},
   "outputs": [
    {
     "data": {
      "text/html": [
       "<div>\n",
       "<style>\n",
       "    .dataframe thead tr:only-child th {\n",
       "        text-align: right;\n",
       "    }\n",
       "\n",
       "    .dataframe thead th {\n",
       "        text-align: left;\n",
       "    }\n",
       "\n",
       "    .dataframe tbody tr th {\n",
       "        vertical-align: top;\n",
       "    }\n",
       "</style>\n",
       "<table border=\"1\" class=\"dataframe\">\n",
       "  <thead>\n",
       "    <tr style=\"text-align: right;\">\n",
       "      <th></th>\n",
       "      <th>New -&gt; Asst</th>\n",
       "      <th>New -&gt; Assoc</th>\n",
       "      <th>New -&gt; Full</th>\n",
       "      <th>New -&gt; Gone</th>\n",
       "      <th>Asst -&gt; Asst</th>\n",
       "      <th>Asst -&gt; Assoc</th>\n",
       "      <th>Asst -&gt; Full</th>\n",
       "      <th>Asst -&gt; Gone</th>\n",
       "      <th>Assoc -&gt; Asst</th>\n",
       "      <th>Assoc -&gt; Assoc</th>\n",
       "      <th>Assoc -&gt; Full</th>\n",
       "      <th>Assoc -&gt; Gone</th>\n",
       "      <th>Full -&gt; Asst</th>\n",
       "      <th>Full -&gt; Assoc</th>\n",
       "      <th>Full -&gt; Full</th>\n",
       "      <th>Full -&gt; Gone</th>\n",
       "    </tr>\n",
       "  </thead>\n",
       "  <tbody>\n",
       "    <tr>\n",
       "      <th>New -&gt; Asst</th>\n",
       "      <td>0.944</td>\n",
       "      <td>0.000</td>\n",
       "      <td>0.000</td>\n",
       "      <td>0.045</td>\n",
       "      <td>0.011</td>\n",
       "      <td>0.000</td>\n",
       "      <td>0.000</td>\n",
       "      <td>0.000</td>\n",
       "      <td>0.000</td>\n",
       "      <td>0.000</td>\n",
       "      <td>0.000</td>\n",
       "      <td>0.000</td>\n",
       "      <td>0.000</td>\n",
       "      <td>0.000</td>\n",
       "      <td>0.000</td>\n",
       "      <td>0.000</td>\n",
       "    </tr>\n",
       "    <tr>\n",
       "      <th>New -&gt; Assoc</th>\n",
       "      <td>0.059</td>\n",
       "      <td>0.529</td>\n",
       "      <td>0.000</td>\n",
       "      <td>0.176</td>\n",
       "      <td>0.000</td>\n",
       "      <td>0.000</td>\n",
       "      <td>0.000</td>\n",
       "      <td>0.000</td>\n",
       "      <td>0.000</td>\n",
       "      <td>0.235</td>\n",
       "      <td>0.000</td>\n",
       "      <td>0.000</td>\n",
       "      <td>0.000</td>\n",
       "      <td>0.000</td>\n",
       "      <td>0.000</td>\n",
       "      <td>0.000</td>\n",
       "    </tr>\n",
       "    <tr>\n",
       "      <th>New -&gt; Full</th>\n",
       "      <td>0.000</td>\n",
       "      <td>0.038</td>\n",
       "      <td>0.462</td>\n",
       "      <td>0.269</td>\n",
       "      <td>0.000</td>\n",
       "      <td>0.000</td>\n",
       "      <td>0.000</td>\n",
       "      <td>0.000</td>\n",
       "      <td>0.000</td>\n",
       "      <td>0.000</td>\n",
       "      <td>0.000</td>\n",
       "      <td>0.000</td>\n",
       "      <td>0.000</td>\n",
       "      <td>0.000</td>\n",
       "      <td>0.231</td>\n",
       "      <td>0.000</td>\n",
       "    </tr>\n",
       "    <tr>\n",
       "      <th>New -&gt; Gone</th>\n",
       "      <td>0.000</td>\n",
       "      <td>0.000</td>\n",
       "      <td>0.000</td>\n",
       "      <td>0.000</td>\n",
       "      <td>0.000</td>\n",
       "      <td>0.000</td>\n",
       "      <td>0.000</td>\n",
       "      <td>0.000</td>\n",
       "      <td>0.000</td>\n",
       "      <td>0.000</td>\n",
       "      <td>0.000</td>\n",
       "      <td>0.000</td>\n",
       "      <td>0.000</td>\n",
       "      <td>0.000</td>\n",
       "      <td>0.000</td>\n",
       "      <td>0.000</td>\n",
       "    </tr>\n",
       "    <tr>\n",
       "      <th>Asst -&gt; Asst</th>\n",
       "      <td>0.000</td>\n",
       "      <td>0.000</td>\n",
       "      <td>0.000</td>\n",
       "      <td>0.000</td>\n",
       "      <td>0.500</td>\n",
       "      <td>0.500</td>\n",
       "      <td>0.000</td>\n",
       "      <td>0.000</td>\n",
       "      <td>0.000</td>\n",
       "      <td>0.000</td>\n",
       "      <td>0.000</td>\n",
       "      <td>0.000</td>\n",
       "      <td>0.000</td>\n",
       "      <td>0.000</td>\n",
       "      <td>0.000</td>\n",
       "      <td>0.000</td>\n",
       "    </tr>\n",
       "    <tr>\n",
       "      <th>Asst -&gt; Assoc</th>\n",
       "      <td>0.000</td>\n",
       "      <td>0.000</td>\n",
       "      <td>0.000</td>\n",
       "      <td>0.000</td>\n",
       "      <td>0.000</td>\n",
       "      <td>0.914</td>\n",
       "      <td>0.086</td>\n",
       "      <td>0.000</td>\n",
       "      <td>0.000</td>\n",
       "      <td>0.000</td>\n",
       "      <td>0.000</td>\n",
       "      <td>0.000</td>\n",
       "      <td>0.000</td>\n",
       "      <td>0.000</td>\n",
       "      <td>0.000</td>\n",
       "      <td>0.000</td>\n",
       "    </tr>\n",
       "    <tr>\n",
       "      <th>Asst -&gt; Full</th>\n",
       "      <td>0.000</td>\n",
       "      <td>0.000</td>\n",
       "      <td>0.000</td>\n",
       "      <td>0.000</td>\n",
       "      <td>0.167</td>\n",
       "      <td>0.500</td>\n",
       "      <td>0.333</td>\n",
       "      <td>0.000</td>\n",
       "      <td>0.000</td>\n",
       "      <td>0.000</td>\n",
       "      <td>0.000</td>\n",
       "      <td>0.000</td>\n",
       "      <td>0.000</td>\n",
       "      <td>0.000</td>\n",
       "      <td>0.000</td>\n",
       "      <td>0.000</td>\n",
       "    </tr>\n",
       "    <tr>\n",
       "      <th>Asst -&gt; Gone</th>\n",
       "      <td>0.000</td>\n",
       "      <td>0.000</td>\n",
       "      <td>0.000</td>\n",
       "      <td>0.000</td>\n",
       "      <td>0.167</td>\n",
       "      <td>0.333</td>\n",
       "      <td>0.083</td>\n",
       "      <td>0.417</td>\n",
       "      <td>0.000</td>\n",
       "      <td>0.000</td>\n",
       "      <td>0.000</td>\n",
       "      <td>0.000</td>\n",
       "      <td>0.000</td>\n",
       "      <td>0.000</td>\n",
       "      <td>0.000</td>\n",
       "      <td>0.000</td>\n",
       "    </tr>\n",
       "    <tr>\n",
       "      <th>Assoc -&gt; Asst</th>\n",
       "      <td>0.000</td>\n",
       "      <td>0.000</td>\n",
       "      <td>0.000</td>\n",
       "      <td>0.000</td>\n",
       "      <td>0.000</td>\n",
       "      <td>0.000</td>\n",
       "      <td>0.000</td>\n",
       "      <td>0.000</td>\n",
       "      <td>0.333</td>\n",
       "      <td>0.333</td>\n",
       "      <td>0.000</td>\n",
       "      <td>0.333</td>\n",
       "      <td>0.000</td>\n",
       "      <td>0.000</td>\n",
       "      <td>0.000</td>\n",
       "      <td>0.000</td>\n",
       "    </tr>\n",
       "    <tr>\n",
       "      <th>Assoc -&gt; Assoc</th>\n",
       "      <td>0.000</td>\n",
       "      <td>0.000</td>\n",
       "      <td>0.000</td>\n",
       "      <td>0.000</td>\n",
       "      <td>0.000</td>\n",
       "      <td>0.000</td>\n",
       "      <td>0.000</td>\n",
       "      <td>0.000</td>\n",
       "      <td>0.000</td>\n",
       "      <td>1.000</td>\n",
       "      <td>0.000</td>\n",
       "      <td>0.000</td>\n",
       "      <td>0.000</td>\n",
       "      <td>0.000</td>\n",
       "      <td>0.000</td>\n",
       "      <td>0.000</td>\n",
       "    </tr>\n",
       "    <tr>\n",
       "      <th>Assoc -&gt; Full</th>\n",
       "      <td>0.000</td>\n",
       "      <td>0.000</td>\n",
       "      <td>0.000</td>\n",
       "      <td>0.000</td>\n",
       "      <td>0.000</td>\n",
       "      <td>0.000</td>\n",
       "      <td>0.000</td>\n",
       "      <td>0.000</td>\n",
       "      <td>0.000</td>\n",
       "      <td>0.019</td>\n",
       "      <td>0.981</td>\n",
       "      <td>0.000</td>\n",
       "      <td>0.000</td>\n",
       "      <td>0.000</td>\n",
       "      <td>0.000</td>\n",
       "      <td>0.000</td>\n",
       "    </tr>\n",
       "    <tr>\n",
       "      <th>Assoc -&gt; Gone</th>\n",
       "      <td>0.000</td>\n",
       "      <td>0.000</td>\n",
       "      <td>0.000</td>\n",
       "      <td>0.000</td>\n",
       "      <td>0.000</td>\n",
       "      <td>0.000</td>\n",
       "      <td>0.000</td>\n",
       "      <td>0.000</td>\n",
       "      <td>0.000</td>\n",
       "      <td>0.444</td>\n",
       "      <td>0.133</td>\n",
       "      <td>0.422</td>\n",
       "      <td>0.000</td>\n",
       "      <td>0.000</td>\n",
       "      <td>0.000</td>\n",
       "      <td>0.000</td>\n",
       "    </tr>\n",
       "    <tr>\n",
       "      <th>Full -&gt; Asst</th>\n",
       "      <td>0.000</td>\n",
       "      <td>0.000</td>\n",
       "      <td>0.000</td>\n",
       "      <td>0.000</td>\n",
       "      <td>0.000</td>\n",
       "      <td>0.000</td>\n",
       "      <td>0.000</td>\n",
       "      <td>0.000</td>\n",
       "      <td>0.000</td>\n",
       "      <td>0.000</td>\n",
       "      <td>0.000</td>\n",
       "      <td>0.000</td>\n",
       "      <td>0.000</td>\n",
       "      <td>0.000</td>\n",
       "      <td>1.000</td>\n",
       "      <td>0.000</td>\n",
       "    </tr>\n",
       "    <tr>\n",
       "      <th>Full -&gt; Assoc</th>\n",
       "      <td>0.000</td>\n",
       "      <td>0.000</td>\n",
       "      <td>0.000</td>\n",
       "      <td>0.000</td>\n",
       "      <td>0.000</td>\n",
       "      <td>0.000</td>\n",
       "      <td>0.000</td>\n",
       "      <td>0.000</td>\n",
       "      <td>0.000</td>\n",
       "      <td>0.000</td>\n",
       "      <td>0.000</td>\n",
       "      <td>0.000</td>\n",
       "      <td>0.000</td>\n",
       "      <td>0.250</td>\n",
       "      <td>0.750</td>\n",
       "      <td>0.000</td>\n",
       "    </tr>\n",
       "    <tr>\n",
       "      <th>Full -&gt; Full</th>\n",
       "      <td>0.000</td>\n",
       "      <td>0.000</td>\n",
       "      <td>0.000</td>\n",
       "      <td>0.000</td>\n",
       "      <td>0.000</td>\n",
       "      <td>0.000</td>\n",
       "      <td>0.000</td>\n",
       "      <td>0.000</td>\n",
       "      <td>0.000</td>\n",
       "      <td>0.000</td>\n",
       "      <td>0.000</td>\n",
       "      <td>0.000</td>\n",
       "      <td>0.000</td>\n",
       "      <td>0.000</td>\n",
       "      <td>0.987</td>\n",
       "      <td>0.013</td>\n",
       "    </tr>\n",
       "    <tr>\n",
       "      <th>Full -&gt; Gone</th>\n",
       "      <td>0.000</td>\n",
       "      <td>0.000</td>\n",
       "      <td>0.000</td>\n",
       "      <td>0.000</td>\n",
       "      <td>0.000</td>\n",
       "      <td>0.000</td>\n",
       "      <td>0.000</td>\n",
       "      <td>0.000</td>\n",
       "      <td>0.000</td>\n",
       "      <td>0.000</td>\n",
       "      <td>0.000</td>\n",
       "      <td>0.000</td>\n",
       "      <td>0.000</td>\n",
       "      <td>0.000</td>\n",
       "      <td>0.692</td>\n",
       "      <td>0.308</td>\n",
       "    </tr>\n",
       "  </tbody>\n",
       "</table>\n",
       "</div>"
      ],
      "text/plain": [
       "                New -> Asst  New -> Assoc  New -> Full  New -> Gone  \\\n",
       "New -> Asst           0.944         0.000        0.000        0.045   \n",
       "New -> Assoc          0.059         0.529        0.000        0.176   \n",
       "New -> Full           0.000         0.038        0.462        0.269   \n",
       "New -> Gone           0.000         0.000        0.000        0.000   \n",
       "Asst -> Asst          0.000         0.000        0.000        0.000   \n",
       "Asst -> Assoc         0.000         0.000        0.000        0.000   \n",
       "Asst -> Full          0.000         0.000        0.000        0.000   \n",
       "Asst -> Gone          0.000         0.000        0.000        0.000   \n",
       "Assoc -> Asst         0.000         0.000        0.000        0.000   \n",
       "Assoc -> Assoc        0.000         0.000        0.000        0.000   \n",
       "Assoc -> Full         0.000         0.000        0.000        0.000   \n",
       "Assoc -> Gone         0.000         0.000        0.000        0.000   \n",
       "Full -> Asst          0.000         0.000        0.000        0.000   \n",
       "Full -> Assoc         0.000         0.000        0.000        0.000   \n",
       "Full -> Full          0.000         0.000        0.000        0.000   \n",
       "Full -> Gone          0.000         0.000        0.000        0.000   \n",
       "\n",
       "                Asst -> Asst  Asst -> Assoc  Asst -> Full  Asst -> Gone  \\\n",
       "New -> Asst            0.011          0.000         0.000         0.000   \n",
       "New -> Assoc           0.000          0.000         0.000         0.000   \n",
       "New -> Full            0.000          0.000         0.000         0.000   \n",
       "New -> Gone            0.000          0.000         0.000         0.000   \n",
       "Asst -> Asst           0.500          0.500         0.000         0.000   \n",
       "Asst -> Assoc          0.000          0.914         0.086         0.000   \n",
       "Asst -> Full           0.167          0.500         0.333         0.000   \n",
       "Asst -> Gone           0.167          0.333         0.083         0.417   \n",
       "Assoc -> Asst          0.000          0.000         0.000         0.000   \n",
       "Assoc -> Assoc         0.000          0.000         0.000         0.000   \n",
       "Assoc -> Full          0.000          0.000         0.000         0.000   \n",
       "Assoc -> Gone          0.000          0.000         0.000         0.000   \n",
       "Full -> Asst           0.000          0.000         0.000         0.000   \n",
       "Full -> Assoc          0.000          0.000         0.000         0.000   \n",
       "Full -> Full           0.000          0.000         0.000         0.000   \n",
       "Full -> Gone           0.000          0.000         0.000         0.000   \n",
       "\n",
       "                Assoc -> Asst  Assoc -> Assoc  Assoc -> Full  Assoc -> Gone  \\\n",
       "New -> Asst             0.000           0.000          0.000          0.000   \n",
       "New -> Assoc            0.000           0.235          0.000          0.000   \n",
       "New -> Full             0.000           0.000          0.000          0.000   \n",
       "New -> Gone             0.000           0.000          0.000          0.000   \n",
       "Asst -> Asst            0.000           0.000          0.000          0.000   \n",
       "Asst -> Assoc           0.000           0.000          0.000          0.000   \n",
       "Asst -> Full            0.000           0.000          0.000          0.000   \n",
       "Asst -> Gone            0.000           0.000          0.000          0.000   \n",
       "Assoc -> Asst           0.333           0.333          0.000          0.333   \n",
       "Assoc -> Assoc          0.000           1.000          0.000          0.000   \n",
       "Assoc -> Full           0.000           0.019          0.981          0.000   \n",
       "Assoc -> Gone           0.000           0.444          0.133          0.422   \n",
       "Full -> Asst            0.000           0.000          0.000          0.000   \n",
       "Full -> Assoc           0.000           0.000          0.000          0.000   \n",
       "Full -> Full            0.000           0.000          0.000          0.000   \n",
       "Full -> Gone            0.000           0.000          0.000          0.000   \n",
       "\n",
       "                Full -> Asst  Full -> Assoc  Full -> Full  Full -> Gone  \n",
       "New -> Asst            0.000          0.000         0.000         0.000  \n",
       "New -> Assoc           0.000          0.000         0.000         0.000  \n",
       "New -> Full            0.000          0.000         0.231         0.000  \n",
       "New -> Gone            0.000          0.000         0.000         0.000  \n",
       "Asst -> Asst           0.000          0.000         0.000         0.000  \n",
       "Asst -> Assoc          0.000          0.000         0.000         0.000  \n",
       "Asst -> Full           0.000          0.000         0.000         0.000  \n",
       "Asst -> Gone           0.000          0.000         0.000         0.000  \n",
       "Assoc -> Asst          0.000          0.000         0.000         0.000  \n",
       "Assoc -> Assoc         0.000          0.000         0.000         0.000  \n",
       "Assoc -> Full          0.000          0.000         0.000         0.000  \n",
       "Assoc -> Gone          0.000          0.000         0.000         0.000  \n",
       "Full -> Asst           0.000          0.000         1.000         0.000  \n",
       "Full -> Assoc          0.000          0.250         0.750         0.000  \n",
       "Full -> Full           0.000          0.000         0.987         0.013  \n",
       "Full -> Gone           0.000          0.000         0.692         0.308  "
      ]
     },
     "execution_count": 13,
     "metadata": {},
     "output_type": "execute_result"
    }
   ],
   "source": [
    "pd.set_option('display.float_format', lambda x: '%.3f' % x)\n",
    "confusion = pd.read_csv('../data/confusion.csv', index_col=0, header=0).fillna(0.0)\n",
    "confusion[['New -> Asst', 'New -> Assoc', 'New -> Full', 'New -> Gone',\n",
    "    'Asst -> Asst', 'Asst -> Assoc', 'Asst -> Full', 'Asst -> Gone',\n",
    "    'Assoc -> Asst', 'Assoc -> Assoc', 'Assoc -> Full', 'Assoc -> Gone',\n",
    "    'Full -> Asst', 'Full -> Assoc', 'Full -> Full', 'Full -> Gone']]"
   ]
  },
  {
   "cell_type": "code",
   "execution_count": 14,
   "metadata": {},
   "outputs": [],
   "source": [
    "confusion_copy = confusion.copy()\n",
    "confusion_copy = confusion_copy.mul([x[each] for each in confusion_copy.index], axis='index')"
   ]
  },
  {
   "cell_type": "code",
   "execution_count": 15,
   "metadata": {},
   "outputs": [
    {
     "data": {
      "text/plain": [
       "New -> Asst      1038.157\n",
       "New -> Assoc      160.192\n",
       "New -> Full       194.308\n",
       "New -> Gone       210.020\n",
       "Asst -> Asst      116.669\n",
       "Asst -> Assoc     566.624\n",
       "Asst -> Full       77.543\n",
       "Asst -> Gone      108.333\n",
       "Assoc -> Asst       0.000\n",
       "Assoc -> Assoc    991.759\n",
       "Assoc -> Full     635.152\n",
       "Assoc -> Gone     203.089\n",
       "Full -> Asst        0.000\n",
       "Full -> Assoc       0.000\n",
       "Full -> Full     2220.397\n",
       "Full -> Gone      270.757\n",
       "dtype: float64"
      ]
     },
     "execution_count": 15,
     "metadata": {},
     "output_type": "execute_result"
    }
   ],
   "source": [
    "venn = confusion_copy[['New -> Asst', 'New -> Assoc', 'New -> Full', 'New -> Gone',\n",
    "    'Asst -> Asst', 'Asst -> Assoc', 'Asst -> Full', 'Asst -> Gone',\n",
    "    'Assoc -> Asst', 'Assoc -> Assoc', 'Assoc -> Full', 'Assoc -> Gone',\n",
    "    'Full -> Asst', 'Full -> Assoc', 'Full -> Full', 'Full -> Gone']].sum(axis=0)\n",
    "venn"
   ]
  },
  {
   "cell_type": "code",
   "execution_count": 16,
   "metadata": {},
   "outputs": [],
   "source": [
    "new = (venn['New -> Asst'] + venn['New -> Assoc'] + venn['New -> Full'])"
   ]
  },
  {
   "cell_type": "code",
   "execution_count": 17,
   "metadata": {},
   "outputs": [],
   "source": [
    "retained = (venn['Asst -> Asst'] + venn['Asst -> Assoc'] + venn['Asst -> Full'] \n",
    "+ venn['Assoc -> Asst'] + venn['Assoc -> Assoc'] + venn['Assoc -> Full']\n",
    "+ venn['Full -> Asst'] + venn['Full -> Assoc'] + venn['Full -> Full'])"
   ]
  },
  {
   "cell_type": "code",
   "execution_count": 18,
   "metadata": {},
   "outputs": [],
   "source": [
    "old = (venn['Asst -> Gone'] + venn['Assoc -> Gone'] + venn['Full -> Gone'])"
   ]
  },
  {
   "cell_type": "code",
   "execution_count": 19,
   "metadata": {},
   "outputs": [
    {
     "data": {
      "image/png": "[encoded data removed]",
      "text/plain": [
       "<matplotlib.figure.Figure at 0x1a1d43eb90>"
      ]
     },
     "metadata": {},
     "output_type": "display_data"
    }
   ],
   "source": [
    "# Plot the venn diagram\n",
    "fig, ax = plt.subplots(figsize=(6.0, 4.0)) # adding some space below just to the numbers fit in the bubbles\n",
    "v = venn2([set(range(0, int(retained))), set(range(int(old+250), int(retained + new)))], set_labels=(\"\",\"\")) #set_labels = ('2011 Census', '2017 Census'))\n",
    "#plt.title(\"Overlap of Faculty\")\n",
    "font = {'family' : 'sans',\n",
    "        'sans-serif': 'Helvetica',\n",
    "        'size'   : LEGEND_SIZE}\n",
    "matplotlib.rc('font', **font)\n",
    "\n",
    "v.patches[0].set_color('gray')\n",
    "v.patches[0].set_alpha(0.71)\n",
    "v.patches[1].set_color('#fdb863')\n",
    "v.patches[1].set_alpha(1.0)\n",
    "v.patches[2].set_color('#e66101')\n",
    "v.patches[2].set_alpha(1.0)\n",
    "\n",
    "v.subset_labels[0].set_text('%0.0f' % (old))\n",
    "v.subset_labels[0].set_fontsize(LABEL_SIZE) \n",
    "v.subset_labels[1].set_text('%0.0f' % (new))\n",
    "v.subset_labels[1].set_fontsize(LABEL_SIZE) \n",
    "v.subset_labels[2].set_text('\\n\\n%0.0f\\n\\n\\n%0.1f%% of 2011\\n%0.1f%% of 2017\\nCensuses\\n' % (retained, retained*100./(retained+old), retained*100./(retained+new)))\n",
    "v.subset_labels[2].set_fontsize(LABEL_SIZE) \n",
    "\n",
    "plt.annotate('%0.1f%% of\\n2011 Census' % (old*100./((retained+old))), fontsize=LABEL_SIZE, xy=v.subset_labels[0].get_position() - np.array([0, 0.05]), xytext=(-70,-70), ha='center', textcoords='offset points', bbox=dict(boxstyle='round,pad=0.5', fc=ALMOST_BLACK, alpha=0.0), arrowprops=dict(linewidth=2, arrowstyle='->', connectionstyle='arc3,rad=0.5',color=ALMOST_BLACK))\n",
    "plt.annotate('%0.1f%% of\\n2017 Census' % (new*100./((retained+new))), fontsize=LABEL_SIZE, xy=v.subset_labels[1].get_position() - np.array([0, -0.05]), xytext=(70,70), ha='center', textcoords='offset points', bbox=dict(boxstyle='round,pad=0.5', fc=ALMOST_BLACK, alpha=0.0), arrowprops=dict(linewidth=2, arrowstyle='->', connectionstyle='arc3,rad=0.5', color=ALMOST_BLACK))\n",
    "\n",
    "plt.annotate('2017 Census', fontsize=LABEL_SIZE, xy=[0.25,-0.57])\n",
    "plt.annotate('2011 Census', fontsize=LABEL_SIZE, xy=[-0.65,-0.57])\n",
    "\n",
    "#plt.tight_layout()\n",
    "finalize(ax)\n",
    "plt.savefig(\"corrected_venn_diagram.tif\", format='tif', dpi=1200)\n",
    "plt.show()\n",
    "\n",
    "# ... corrected counts for faculty in the the three groups: 1277 new hires, 3610 retained, and 1199 departed. "
   ]
  },
  {
   "cell_type": "code",
   "execution_count": 20,
   "metadata": {},
   "outputs": [
    {
     "data": {
      "text/plain": [
       "0.15615186271946313"
      ]
     },
     "execution_count": 20,
     "metadata": {},
     "output_type": "execute_result"
    }
   ],
   "source": [
    "abs((old + retained)-(new + retained))/float(old + retained) # Growth rate"
   ]
  },
  {
   "cell_type": "code",
   "execution_count": 21,
   "metadata": {},
   "outputs": [
    {
     "name": "stdout",
     "output_type": "stream",
     "text": [
      "(Counter({'Full Professor': 2637, 'Associate Professor': 1413, 'Assistant Professor': 1187}), 5237)\n",
      "(Counter({'Full Professor': 2394, 'Associate Professor': 1766, 'Assistant Professor': 857}), 5017)\n"
     ]
    }
   ],
   "source": [
    "# Loop through the new and old faculty to get their name and title\n",
    "from collections import Counter\n",
    "\n",
    "new_counter = Counter(); old_counter = Counter();\n",
    "for entry in faculty_2011:\n",
    "    new_counter[entry[\"title_2011\"]] += 1\n",
    "for entry in faculty_2017:\n",
    "    old_counter[entry[\"title_2017\"]] += 1\n",
    "    \n",
    "print(old_counter, sum(old_counter.values()))\n",
    "print(new_counter, sum(new_counter.values()))"
   ]
  },
  {
   "cell_type": "markdown",
   "metadata": {},
   "source": [
    "## Differential rates for men and women"
   ]
  },
  {
   "cell_type": "code",
   "execution_count": 22,
   "metadata": {},
   "outputs": [],
   "source": [
    "def transitions(sex):\n",
    "    x = {'Asst -> Asst': 0, 'Asst -> Assoc': 0, 'Asst -> Full': 0, 'Asst -> Gone': 0,\n",
    "       'Assoc -> Asst': 0, 'Assoc -> Assoc': 0, 'Assoc -> Full': 0, 'Assoc -> Gone': 0, \n",
    "       'Full -> Asst': 0, 'Full -> Assoc': 0, 'Full -> Full': 0, 'Full -> Gone': 0}\n",
    "    \n",
    "    with open('../data/faculty.csv') as csvfile:\n",
    "        reader = csv.DictReader(csvfile, fieldnames=[\"\", \"title_2011\", \"place_2011\", \"title_2017\", \"place_2017\", \"sex\", \"guid\"], delimiter = \",\")\n",
    "        for i, row in enumerate(reader):\n",
    "            if i == 0: continue\n",
    "            if row[\"sex\"] != sex: continue\n",
    "\n",
    "            if row[\"title_2011\"] == \"Assistant Professor\":\n",
    "                if row[\"title_2017\"] == \"Assistant Professor\": x['Asst -> Asst'] += 1\n",
    "                elif row[\"title_2017\"] == \"Associate Professor\": x['Asst -> Assoc'] += 1\n",
    "                elif row[\"title_2017\"] == \"Full Professor\": x['Asst -> Full'] += 1\n",
    "                else: x['Asst -> Gone'] += 1\n",
    "            elif row[\"title_2011\"] == \"Associate Professor\":\n",
    "                if row[\"title_2017\"] == \"Assistant Professor\": x['Assoc -> Asst'] += 1\n",
    "                elif row[\"title_2017\"] == \"Associate Professor\": x['Assoc -> Assoc'] += 1\n",
    "                elif row[\"title_2017\"] == \"Full Professor\": x['Assoc -> Full'] += 1\n",
    "                else: x['Assoc -> Gone'] += 1\n",
    "            elif row[\"title_2011\"] == \"Full Professor\":\n",
    "                if row[\"title_2017\"] == \"Assistant Professor\": x['Full -> Asst'] += 1\n",
    "                elif row[\"title_2017\"] == \"Associate Professor\": x['Full -> Assoc'] += 1\n",
    "                elif row[\"title_2017\"] == \"Full Professor\": x['Full -> Full'] += 1\n",
    "                else: x['Full -> Gone'] += 1\n",
    "    \n",
    "    return x"
   ]
  },
  {
   "cell_type": "code",
   "execution_count": 23,
   "metadata": {},
   "outputs": [
    {
     "data": {
      "text/plain": [
       "{'Assoc -> Assoc': 598,\n",
       " 'Assoc -> Asst': 0,\n",
       " 'Assoc -> Full': 474,\n",
       " 'Assoc -> Gone': 419,\n",
       " 'Asst -> Assoc': 325,\n",
       " 'Asst -> Asst': 81,\n",
       " 'Asst -> Full': 49,\n",
       " 'Asst -> Gone': 207,\n",
       " 'Full -> Assoc': 0,\n",
       " 'Full -> Asst': 0,\n",
       " 'Full -> Full': 1391,\n",
       " 'Full -> Gone': 725}"
      ]
     },
     "execution_count": 23,
     "metadata": {},
     "output_type": "execute_result"
    }
   ],
   "source": [
    "x_m = transitions(\"M\")\n",
    "x_m"
   ]
  },
  {
   "cell_type": "code",
   "execution_count": 24,
   "metadata": {},
   "outputs": [],
   "source": [
    "confusion_copy = confusion.copy()\n",
    "confusion_copy.drop(['New -> Asst', 'New -> Assoc', 'New -> Full', 'New -> Gone'], axis=1, inplace=True)\n",
    "confusion_copy.drop(['New -> Asst', 'New -> Assoc', 'New -> Full', 'New -> Gone'], axis=0, inplace=True)\n",
    "confusion_copy = confusion_copy.mul([x_m[each] for each in confusion_copy.columns], axis='index')\n",
    "# confusion_copy[['Asst -> Asst', 'Asst -> Assoc', 'Asst -> Full', 'Asst -> Gone',\n",
    "#          'Assoc -> Asst', 'Assoc -> Assoc', 'Assoc -> Full', 'Assoc -> Gone',\n",
    "#          'Full -> Asst', 'Full -> Assoc', 'Full -> Full', 'Full -> Gone']]"
   ]
  },
  {
   "cell_type": "code",
   "execution_count": 25,
   "metadata": {},
   "outputs": [
    {
     "data": {
      "text/plain": [
       "Asst -> Asst      447.833\n",
       "Asst -> Assoc     675.667\n",
       "Asst -> Full      192.917\n",
       "Asst -> Gone      174.583\n",
       "Assoc -> Asst     108.333\n",
       "Assoc -> Assoc    282.258\n",
       "Assoc -> Full      75.675\n",
       "Assoc -> Gone     195.733\n",
       "Full -> Asst        0.000\n",
       "Full -> Assoc       0.000\n",
       "Full -> Full     1875.315\n",
       "Full -> Gone      240.685\n",
       "dtype: float64"
      ]
     },
     "execution_count": 25,
     "metadata": {},
     "output_type": "execute_result"
    }
   ],
   "source": [
    "m_counts= confusion_copy[['Asst -> Asst', 'Asst -> Assoc', 'Asst -> Full', 'Asst -> Gone',\n",
    "    'Assoc -> Asst', 'Assoc -> Assoc', 'Assoc -> Full', 'Assoc -> Gone',\n",
    "    'Full -> Asst', 'Full -> Assoc', 'Full -> Full', 'Full -> Gone']].sum(axis=0)\n",
    "m_counts"
   ]
  },
  {
   "cell_type": "code",
   "execution_count": 26,
   "metadata": {},
   "outputs": [
    {
     "data": {
      "text/plain": [
       "0.1137450463201282"
      ]
     },
     "execution_count": 26,
     "metadata": {},
     "output_type": "execute_result"
    }
   ],
   "source": [
    "m_counts['Full -> Gone']/(m_counts['Full -> Asst']+m_counts['Full -> Assoc']+m_counts['Full -> Full']+m_counts['Full -> Gone'])"
   ]
  },
  {
   "cell_type": "code",
   "execution_count": 27,
   "metadata": {},
   "outputs": [
    {
     "data": {
      "text/plain": [
       "0.1431251311033252"
      ]
     },
     "execution_count": 27,
     "metadata": {},
     "output_type": "execute_result"
    }
   ],
   "source": [
    "(m_counts['Asst -> Gone'] + m_counts['Assoc -> Gone'] + m_counts['Full -> Gone'])/(np.sum(m_counts))"
   ]
  },
  {
   "cell_type": "code",
   "execution_count": 28,
   "metadata": {},
   "outputs": [
    {
     "data": {
      "text/plain": [
       "{'Assoc -> Assoc': 104,\n",
       " 'Assoc -> Asst': 0,\n",
       " 'Assoc -> Full': 108,\n",
       " 'Assoc -> Gone': 62,\n",
       " 'Asst -> Assoc': 111,\n",
       " 'Asst -> Asst': 23,\n",
       " 'Asst -> Full': 6,\n",
       " 'Asst -> Gone': 53,\n",
       " 'Full -> Assoc': 0,\n",
       " 'Full -> Asst': 0,\n",
       " 'Full -> Full': 185,\n",
       " 'Full -> Gone': 89}"
      ]
     },
     "execution_count": 28,
     "metadata": {},
     "output_type": "execute_result"
    }
   ],
   "source": [
    "x_f = transitions(\"F\")\n",
    "x_f"
   ]
  },
  {
   "cell_type": "code",
   "execution_count": 29,
   "metadata": {},
   "outputs": [],
   "source": [
    "confusion_copy = confusion.copy()\n",
    "confusion_copy.drop(['New -> Asst', 'New -> Assoc', 'New -> Full', 'New -> Gone'], axis=1, inplace=True)\n",
    "confusion_copy.drop(['New -> Asst', 'New -> Assoc', 'New -> Full', 'New -> Gone'], axis=0, inplace=True)\n",
    "confusion_copy = confusion_copy.mul([x_f[each] for each in confusion_copy.columns], axis='index')\n",
    "# confusion_copy[['Asst -> Asst', 'Asst -> Assoc', 'Asst -> Full', 'Asst -> Gone',\n",
    "#          'Assoc -> Asst', 'Assoc -> Assoc', 'Assoc -> Full', 'Assoc -> Gone',\n",
    "#          'Full -> Asst', 'Full -> Assoc', 'Full -> Full', 'Full -> Gone']]"
   ]
  },
  {
   "cell_type": "code",
   "execution_count": 30,
   "metadata": {},
   "outputs": [
    {
     "data": {
      "text/plain": [
       "Asst -> Asst      80.333\n",
       "Asst -> Assoc    126.667\n",
       "Asst -> Full      41.167\n",
       "Asst -> Gone      25.833\n",
       "Assoc -> Asst     37.000\n",
       "Assoc -> Assoc    83.669\n",
       "Assoc -> Full     12.953\n",
       "Assoc -> Gone     59.378\n",
       "Full -> Asst       0.000\n",
       "Full -> Assoc      0.000\n",
       "Full -> Full     244.274\n",
       "Full -> Gone      29.726\n",
       "dtype: float64"
      ]
     },
     "execution_count": 30,
     "metadata": {},
     "output_type": "execute_result"
    }
   ],
   "source": [
    "f_counts = confusion_copy[['Asst -> Asst', 'Asst -> Assoc', 'Asst -> Full', 'Asst -> Gone',\n",
    "    'Assoc -> Asst', 'Assoc -> Assoc', 'Assoc -> Full', 'Assoc -> Gone',\n",
    "    'Full -> Asst', 'Full -> Assoc', 'Full -> Full', 'Full -> Gone']].sum(axis=0)\n",
    "f_counts"
   ]
  },
  {
   "cell_type": "code",
   "execution_count": 31,
   "metadata": {},
   "outputs": [
    {
     "data": {
      "text/plain": [
       "0.10849046546162223"
      ]
     },
     "execution_count": 31,
     "metadata": {},
     "output_type": "execute_result"
    }
   ],
   "source": [
    "f_counts['Full -> Gone']/(f_counts['Full -> Asst']+f_counts['Full -> Assoc']+f_counts['Full -> Full']+f_counts['Full -> Gone'])"
   ]
  },
  {
   "cell_type": "code",
   "execution_count": 32,
   "metadata": {},
   "outputs": [
    {
     "data": {
      "text/plain": [
       "0.15511133420727247"
      ]
     },
     "execution_count": 32,
     "metadata": {},
     "output_type": "execute_result"
    }
   ],
   "source": [
    "(f_counts['Asst -> Gone'] + f_counts['Assoc -> Gone'] + f_counts['Full -> Gone'])/(np.sum(f_counts))"
   ]
  },
  {
   "cell_type": "code",
   "execution_count": 33,
   "metadata": {},
   "outputs": [],
   "source": [
    "# Build sets of names for assistant, associate, and full professors\n",
    "old_asst_faculty = set([entry[\"guid\"] for entry in faculty_2011 if entry[\"title_2011\"] == 'Assistant Professor'])\n",
    "new_asst_faculty = set([entry[\"guid\"] for entry in faculty_2017 if entry[\"title_2017\"] == 'Assistant Professor'])\n",
    "old_assoc_faculty = set([entry[\"guid\"] for entry in faculty_2011 if entry[\"title_2011\"] == 'Associate Professor'])\n",
    "new_assoc_faculty = set([entry[\"guid\"] for entry in faculty_2017 if entry[\"title_2017\"] == 'Associate Professor'])\n",
    "old_full_faculty = set([entry[\"guid\"] for entry in faculty_2011 if entry[\"title_2011\"] == 'Full Professor'])\n",
    "new_full_faculty = set([entry[\"guid\"] for entry in faculty_2017 if entry[\"title_2017\"] == 'Full Professor'])\n",
    "\n",
    "full_old_sample = old_asst_faculty | old_assoc_faculty | old_full_faculty\n",
    "full_new_sample = new_asst_faculty | new_assoc_faculty | new_full_faculty"
   ]
  },
  {
   "cell_type": "code",
   "execution_count": 34,
   "metadata": {},
   "outputs": [
    {
     "name": "stdout",
     "output_type": "stream",
     "text": [
      "State matrix:\n",
      "(matrix([[ 0.17420436,  0.73366834,  0.0921273 ],\n",
      "        [ 0.        ,  0.54708171,  0.45291829],\n",
      "        [ 0.        ,  0.        ,  1.        ]]), array([ 597, 1285, 1579]))\n"
     ]
    }
   ],
   "source": [
    "# Index (i, j) refers to (professor rank in 2011, professor rank in 2017)\n",
    "def build_matrix(old, new):\n",
    "    x = np.matrix([[0.,0.,0.], [0.,0.,0.], [0.,0.,0.]])\n",
    "    row_sums = np.array([0, 0, 0]); row_sum = 0.0\n",
    "    for i, old_rank in enumerate(old):\n",
    "        for j, new_rank in enumerate(new):\n",
    "            x[i, j] = float(len(old_rank.intersection(new_rank)))\n",
    "            row_sum += float(len(old_rank.intersection(new_rank)))\n",
    "        \n",
    "        for j, new_rank in enumerate(new):\n",
    "            x[i, j] = float(x[i, j])/float(row_sum)\n",
    "        row_sums[i] = row_sum\n",
    "        row_sum = 0.0\n",
    "    \n",
    "    return (x, row_sums)\n",
    "            \n",
    "print(\"State matrix:\\n{0}\".format(build_matrix([old_asst_faculty, old_assoc_faculty, old_full_faculty], \n",
    "                   [new_asst_faculty, new_assoc_faculty, new_full_faculty])))"
   ]
  },
  {
   "cell_type": "code",
   "execution_count": 35,
   "metadata": {},
   "outputs": [
    {
     "name": "stdout",
     "output_type": "stream",
     "text": [
      "State matrix for men:\n",
      "(matrix([[ 0.17802198,  0.71428571,  0.10769231],\n",
      "        [ 0.        ,  0.55783582,  0.44216418],\n",
      "        [ 0.        ,  0.        ,  1.        ]]), array([ 455, 1072, 1391]))\n"
     ]
    }
   ],
   "source": [
    "old_asst_faculty_m = set([entry[\"guid\"] for entry in faculty_2011 if entry['title_2011'] == 'Assistant Professor' and entry['sex'] == 'M'])\n",
    "old_assoc_faculty_m = set([entry[\"guid\"] for entry in faculty_2011 if entry['title_2011'] == 'Associate Professor' and entry['sex'] == 'M'])\n",
    "old_full_faculty_m = set([entry[\"guid\"] for entry in faculty_2011 if entry['title_2011'] == 'Full Professor' and entry['sex'] == 'M'])\n",
    "\n",
    "men = build_matrix([old_asst_faculty_m, old_assoc_faculty_m, old_full_faculty_m], \n",
    "                   [new_asst_faculty, new_assoc_faculty, new_full_faculty])\n",
    "print(\"State matrix for men:\\n{0}\".format(men))"
   ]
  },
  {
   "cell_type": "code",
   "execution_count": 36,
   "metadata": {},
   "outputs": [
    {
     "name": "stdout",
     "output_type": "stream",
     "text": [
      "State matrix for women:\n",
      "(matrix([[ 0.16428571,  0.79285714,  0.04285714],\n",
      "        [ 0.        ,  0.49056604,  0.50943396],\n",
      "        [ 0.        ,  0.        ,  1.        ]]), array([140, 212, 185]))\n"
     ]
    }
   ],
   "source": [
    "old_asst_faculty_f = set([entry[\"guid\"] for entry in faculty_2011 if entry['title_2011'] == 'Assistant Professor' and entry['sex'] == 'F'])\n",
    "old_assoc_faculty_f = set([entry[\"guid\"] for entry in faculty_2011 if entry['title_2011'] == 'Associate Professor' and entry['sex'] == 'F'])\n",
    "old_full_faculty_f = set([entry[\"guid\"] for entry in faculty_2011 if entry['title_2011'] == 'Full Professor' and entry['sex'] == 'F'])\n",
    "\n",
    "women = build_matrix([old_asst_faculty_f, old_assoc_faculty_f, old_full_faculty_f], \n",
    "                   [new_asst_faculty, new_assoc_faculty, new_full_faculty])\n",
    "print(\"State matrix for women:\\n{0}\".format(women))"
   ]
  },
  {
   "cell_type": "code",
   "execution_count": 37,
   "metadata": {},
   "outputs": [
    {
     "name": "stdout",
     "output_type": "stream",
     "text": [
      "WOMEN\n",
      "(array([ 0.29318735,  0.4622871 ,  0.15024331,  0.09428224]), 274.00000000001859)\n",
      "(array([ 0.19170984,  0.43351691,  0.06711637,  0.30765688]), 192.9999999998378)\n",
      "(array([ 0.        ,  0.        ,  0.89150953,  0.10849047]), 274.00000000001853)\n",
      "\n",
      "MEN\n",
      "(array([ 0.3003577 ,  0.45316342,  0.12938744,  0.11709144]), 1491.0000000001255)\n",
      "(array([ 0.16364552,  0.42637139,  0.1143134 ,  0.29566969]), 661.99999999948261)\n",
      "(array([ 0.        ,  0.        ,  0.88625495,  0.11374505]), 2116.0000000001392)\n"
     ]
    }
   ],
   "source": [
    "asst_f = np.array([f_counts['Asst -> Asst'], f_counts['Asst -> Assoc'], f_counts['Asst -> Full'], f_counts['Asst -> Gone']])\n",
    "asst_m = np.array([m_counts['Asst -> Asst'], m_counts['Asst -> Assoc'], m_counts['Asst -> Full'], m_counts['Asst -> Gone']])\n",
    "\n",
    "assoc_f = np.array([f_counts['Assoc -> Asst'], f_counts['Assoc -> Assoc'], f_counts['Assoc -> Full'], f_counts['Assoc -> Gone']])\n",
    "assoc_m = np.array([m_counts['Assoc -> Asst'], m_counts['Assoc -> Assoc'], m_counts['Assoc -> Full'], m_counts['Assoc -> Gone']])\n",
    "\n",
    "full_f = np.array([f_counts['Full -> Asst'], f_counts['Full -> Assoc'], f_counts['Full -> Full'], f_counts['Full -> Gone']])\n",
    "full_m = np.array([m_counts['Full -> Asst'], m_counts['Full -> Assoc'], m_counts['Full -> Full'], m_counts['Full -> Gone']])\n",
    "\n",
    "print \"WOMEN\"\n",
    "print(asst_f/np.sum(asst_f), np.sum(asst_f))\n",
    "print(assoc_f/np.sum(assoc_f), np.sum(assoc_f))\n",
    "print(full_f/np.sum(full_f), np.sum(full_f))\n",
    "print(\"\")\n",
    "print \"MEN\"\n",
    "print(asst_m/np.sum(asst_m), np.sum(asst_m))\n",
    "print(assoc_m/np.sum(assoc_m), np.sum(assoc_m))\n",
    "print(full_m/np.sum(full_m), np.sum(full_m))"
   ]
  },
  {
   "cell_type": "markdown",
   "metadata": {},
   "source": [
    "### Tests for significance"
   ]
  },
  {
   "cell_type": "code",
   "execution_count": 38,
   "metadata": {},
   "outputs": [
    {
     "name": "stdout",
     "output_type": "stream",
     "text": [
      "(0.63858921847375349, 0.42422212372613677, 1, array([[  618.56930921,  3650.43069079],\n",
      "       [  107.36937412,   633.63062588]]))\n",
      "0.400860021093\n"
     ]
    }
   ],
   "source": [
    "men_left = m_counts['Asst -> Gone'] + m_counts['Assoc -> Gone'] + m_counts['Full -> Gone']\n",
    "women_left = f_counts['Asst -> Gone'] + f_counts['Assoc -> Gone'] + f_counts['Full -> Gone']\n",
    "\n",
    "print sp.stats.chi2_contingency([\n",
    "    np.array([men_left, (np.sum(m_counts) - men_left)]), \n",
    "    np.array([women_left, (np.sum(f_counts) - women_left)])\n",
    "])\n",
    "\n",
    "print sp.stats.binom_test(x = women_left, n = np.sum(f_counts), p = men_left/(np.sum(m_counts)))"
   ]
  },
  {
   "cell_type": "markdown",
   "metadata": {},
   "source": [
    "#### Differences at the assistant level"
   ]
  },
  {
   "cell_type": "code",
   "execution_count": 39,
   "metadata": {},
   "outputs": [
    {
     "name": "stdout",
     "output_type": "stream",
     "text": [
      "(0.30035770176632681, 0.29318734793206042)\n",
      "(0.027707624630930343, 0.86779804858261089, 1, array([[  446.17365439,  1044.82634561],\n",
      "       [   81.99301228,   192.00698772]]))\n",
      "0.792398983986\n"
     ]
    }
   ],
   "source": [
    "print (m_counts['Asst -> Asst']/np.sum(asst_m), f_counts['Asst -> Asst']/np.sum(asst_f))\n",
    "print sp.stats.chi2_contingency([\n",
    "    np.array([m_counts['Asst -> Asst'], (np.sum(asst_m) - m_counts['Asst -> Asst'])]), \n",
    "    np.array([f_counts['Asst -> Asst'], (np.sum(asst_f) - f_counts['Asst -> Asst'])])\n",
    "])\n",
    "print sp.stats.binom_test(x = f_counts['Asst -> Asst'], n = np.sum(asst_f), p = m_counts['Asst -> Asst']/np.sum(asst_m))"
   ]
  },
  {
   "cell_type": "code",
   "execution_count": 40,
   "metadata": {},
   "outputs": [
    {
     "name": "stdout",
     "output_type": "stream",
     "text": [
      "(0.45316342499427908, 0.46228710462276423)\n",
      "(0.045268842477612474, 0.83151045295535952, 1, array([[ 677.77847025,  813.22152975],\n",
      "       [ 124.55486308,  149.44513692]]))\n",
      "0.855609542793\n"
     ]
    }
   ],
   "source": [
    "print (m_counts['Asst -> Assoc']/np.sum(asst_m), f_counts['Asst -> Assoc']/np.sum(asst_f))\n",
    "print sp.stats.chi2_contingency([\n",
    "    np.array([m_counts['Asst -> Assoc'], (np.sum(asst_m) - m_counts['Asst -> Assoc'])]), \n",
    "    np.array([f_counts['Asst -> Assoc'], (np.sum(asst_f) - f_counts['Asst -> Assoc'])])\n",
    "])\n",
    "print sp.stats.binom_test(x = f_counts['Asst -> Assoc'], n = np.sum(asst_f), p = m_counts['Asst -> Assoc']/np.sum(asst_m))"
   ]
  },
  {
   "cell_type": "code",
   "execution_count": 41,
   "metadata": {},
   "outputs": [
    {
     "name": "stdout",
     "output_type": "stream",
     "text": [
      "(0.12938743572533765, 0.15024330900228397)\n",
      "(0.7032906016517273, 0.4016802085385982, 1, array([[  197.74405099,  1293.25594901],\n",
      "       [   36.33928234,   237.66071766]]))\n",
      "0.321664342092\n"
     ]
    }
   ],
   "source": [
    "print (m_counts['Asst -> Full']/np.sum(asst_m), f_counts['Asst -> Full']/np.sum(asst_f))\n",
    "print sp.stats.chi2_contingency([\n",
    "    np.array([m_counts['Asst -> Full'], (np.sum(asst_m) - m_counts['Asst -> Full'])]), \n",
    "    np.array([f_counts['Asst -> Full'], (np.sum(asst_f) - f_counts['Asst -> Full'])])\n",
    "])\n",
    "print sp.stats.binom_test(x = f_counts['Asst -> Full'], n = np.sum(asst_f), p = m_counts['Asst -> Full']/np.sum(asst_m))"
   ]
  },
  {
   "cell_type": "code",
   "execution_count": 42,
   "metadata": {},
   "outputs": [
    {
     "name": "stdout",
     "output_type": "stream",
     "text": [
      "(0.11709143751405653, 0.094282238442891408)\n",
      "(0.98048273509091299, 0.3220796557034068, 1, array([[  169.30382436,  1321.69617564],\n",
      "       [   31.1128423 ,   242.8871577 ]]))\n",
      "0.221005961503\n"
     ]
    }
   ],
   "source": [
    "print (m_counts['Asst -> Gone']/np.sum(asst_m), f_counts['Asst -> Gone']/np.sum(asst_f))\n",
    "print sp.stats.chi2_contingency([\n",
    "    np.array([m_counts['Asst -> Gone'], (np.sum(asst_m) - m_counts['Asst -> Gone'])]), \n",
    "    np.array([f_counts['Asst -> Gone'], (np.sum(asst_f) - f_counts['Asst -> Gone'])])\n",
    "])\n",
    "print sp.stats.binom_test(x = f_counts['Asst -> Gone'], n = np.sum(asst_f), p = m_counts['Asst -> Gone']/np.sum(asst_m))"
   ]
  },
  {
   "cell_type": "markdown",
   "metadata": {},
   "source": [
    "#### Differences at the associate level"
   ]
  },
  {
   "cell_type": "code",
   "execution_count": 43,
   "metadata": {},
   "outputs": [
    {
     "name": "stdout",
     "output_type": "stream",
     "text": [
      "(0.16364551863037713, 0.19170984455955487)\n",
      "(0.64714450194367545, 0.42113544839910311, 1, array([[ 112.52709552,  549.47290448],\n",
      "       [  32.80623782,  160.19376218]]))\n",
      "0.379563345893\n"
     ]
    }
   ],
   "source": [
    "print (m_counts['Assoc -> Asst']/np.sum(assoc_m), f_counts['Assoc -> Asst']/np.sum(assoc_f))\n",
    "print sp.stats.chi2_contingency([\n",
    "    np.array([m_counts['Assoc -> Asst'], (np.sum(assoc_m) - m_counts['Assoc -> Asst'])]), \n",
    "    np.array([f_counts['Assoc -> Asst'], (np.sum(assoc_f) - f_counts['Assoc -> Asst'])])\n",
    "])\n",
    "print sp.stats.binom_test(x = f_counts['Assoc -> Asst'], n = np.sum(assoc_f), p = m_counts['Assoc -> Asst']/np.sum(assoc_m))"
   ]
  },
  {
   "cell_type": "code",
   "execution_count": 44,
   "metadata": {},
   "outputs": [
    {
     "name": "stdout",
     "output_type": "stream",
     "text": [
      "(0.42637139219824821, 0.43351690726805758)\n",
      "(0.0088120861817305961, 0.92521027024212643, 1, array([[ 283.32564395,  378.67435605],\n",
      "       [  82.60098079,  110.39901921]]))\n",
      "0.884125465038\n"
     ]
    }
   ],
   "source": [
    "print (m_counts['Assoc -> Assoc']/np.sum(assoc_m), f_counts['Assoc -> Assoc']/np.sum(assoc_f))\n",
    "print sp.stats.chi2_contingency([\n",
    "    np.array([m_counts['Assoc -> Assoc'], (np.sum(assoc_m) - m_counts['Assoc -> Assoc'])]), \n",
    "    np.array([f_counts['Assoc -> Assoc'], (np.sum(assoc_f) - f_counts['Assoc -> Assoc'])])\n",
    "])\n",
    "print sp.stats.binom_test(x = f_counts['Assoc -> Assoc'], n = np.sum(assoc_f), p = m_counts['Assoc -> Assoc']/np.sum(assoc_m))"
   ]
  },
  {
   "cell_type": "code",
   "execution_count": 45,
   "metadata": {},
   "outputs": [
    {
     "name": "stdout",
     "output_type": "stream",
     "text": [
      "(0.11431340135667394, 0.067116368494776618)\n",
      "(3.0926248157699674, 0.078647847957518224, 1, array([[  68.62263415,  593.37736585],\n",
      "       [  20.00629666,  172.99370334]]))\n",
      "0.022658455548\n"
     ]
    }
   ],
   "source": [
    "print (m_counts['Assoc -> Full']/np.sum(assoc_m), f_counts['Assoc -> Full']/np.sum(assoc_f))\n",
    "print sp.stats.chi2_contingency([\n",
    "    np.array([m_counts['Assoc -> Full'], (np.sum(assoc_m) - m_counts['Assoc -> Full'])]), \n",
    "    np.array([f_counts['Assoc -> Full'], (np.sum(assoc_f) - f_counts['Assoc -> Full'])])\n",
    "])\n",
    "print sp.stats.binom_test(x = f_counts['Assoc -> Full'], n = np.sum(assoc_f), p = m_counts['Assoc -> Full']/np.sum(assoc_m))"
   ]
  },
  {
   "cell_type": "code",
   "execution_count": 46,
   "metadata": {},
   "outputs": [
    {
     "name": "stdout",
     "output_type": "stream",
     "text": [
      "(0.29566968781470088, 0.30765687967761085)\n",
      "(0.053300646755957436, 0.81741631953024585, 1, array([[ 197.52462638,  464.47537362],\n",
      "       [  57.58648473,  135.41351527]]))\n",
      "0.751805758075\n"
     ]
    }
   ],
   "source": [
    "print (m_counts['Assoc -> Gone']/np.sum(assoc_m), f_counts['Assoc -> Gone']/np.sum(assoc_f))\n",
    "print sp.stats.chi2_contingency([\n",
    "    np.array([m_counts['Assoc -> Gone'], (np.sum(assoc_m) - m_counts['Assoc -> Gone'])]), \n",
    "    np.array([f_counts['Assoc -> Gone'], (np.sum(assoc_f) - f_counts['Assoc -> Gone'])])\n",
    "])\n",
    "print sp.stats.binom_test(x = f_counts['Assoc -> Gone'], n = np.sum(assoc_f), p = m_counts['Assoc -> Gone']/np.sum(assoc_m))"
   ]
  },
  {
   "cell_type": "markdown",
   "metadata": {},
   "source": [
    "#### Differences at the full level"
   ]
  },
  {
   "cell_type": "code",
   "execution_count": 47,
   "metadata": {},
   "outputs": [
    {
     "name": "stdout",
     "output_type": "stream",
     "text": [
      "(0.0, 0.0)\n",
      "1.0\n"
     ]
    }
   ],
   "source": [
    "print (m_counts['Full -> Asst']/np.sum(full_m), f_counts['Full -> Asst']/np.sum(full_f))\n",
    "# print sp.stats.chi2_contingency([\n",
    "#     np.array([m_counts['Full -> Asst'], (np.sum(full_m) - m_counts['Full -> Asst'])]), \n",
    "#     np.array([f_counts['Full -> Asst'], (np.sum(full_f) - f_counts['Full -> Asst'])])\n",
    "# ])\n",
    "print sp.stats.binom_test(x = f_counts['Full -> Asst'], n = np.sum(full_f), p = m_counts['Full -> Asst']/np.sum(full_m))"
   ]
  },
  {
   "cell_type": "code",
   "execution_count": 48,
   "metadata": {},
   "outputs": [
    {
     "name": "stdout",
     "output_type": "stream",
     "text": [
      "(0.0, 0.0)\n",
      "1.0\n"
     ]
    }
   ],
   "source": [
    "print (m_counts['Full -> Assoc']/np.sum(full_m), f_counts['Full -> Assoc']/np.sum(full_f))\n",
    "# print sp.stats.chi2_contingency([\n",
    "#     np.array([m_counts['Full -> Assoc'], (np.sum(full_m) - m_counts['Full -> Assoc'])]), \n",
    "#     np.array([f_counts['Full -> Assoc'], (np.sum(full_f) - f_counts['Full -> Assoc'])])\n",
    "# ])\n",
    "print sp.stats.binom_test(x = f_counts['Full -> Assoc'], n = np.sum(full_f), p = m_counts['Full -> Assoc']/np.sum(full_m))"
   ]
  },
  {
   "cell_type": "code",
   "execution_count": 49,
   "metadata": {},
   "outputs": [
    {
     "name": "stdout",
     "output_type": "stream",
     "text": [
      "(0.88625495367987184, 0.89150953453837767)\n",
      "(0.024655482528621871, 0.87522857864164394, 1, array([[ 1876.59017735,   239.40982265],\n",
      "       [  242.9989171 ,    31.0010829 ]]))\n",
      "0.924159750911\n"
     ]
    }
   ],
   "source": [
    "print (m_counts['Full -> Full']/np.sum(full_m), f_counts['Full -> Full']/np.sum(full_f))\n",
    "print sp.stats.chi2_contingency([\n",
    "    np.array([m_counts['Full -> Full'], (np.sum(full_m) - m_counts['Full -> Full'])]), \n",
    "    np.array([f_counts['Full -> Full'], (np.sum(full_f) - f_counts['Full -> Full'])])\n",
    "])\n",
    "print sp.stats.binom_test(x = f_counts['Full -> Full'], n = np.sum(full_f), p = m_counts['Full -> Full']/np.sum(full_m))"
   ]
  },
  {
   "cell_type": "code",
   "execution_count": 50,
   "metadata": {},
   "outputs": [
    {
     "name": "stdout",
     "output_type": "stream",
     "text": [
      "(0.1137450463201282, 0.10849046546162223)\n",
      "(0.024655482528623297, 0.87522857864164039, 1, array([[  239.40982265,  1876.59017735],\n",
      "       [   31.0010829 ,   242.9989171 ]]))\n",
      "0.775169788225\n"
     ]
    }
   ],
   "source": [
    "print (m_counts['Full -> Gone']/np.sum(full_m), f_counts['Full -> Gone']/np.sum(full_f))\n",
    "print sp.stats.chi2_contingency([\n",
    "    np.array([m_counts['Full -> Gone'], (np.sum(full_m) - m_counts['Full -> Gone'])]), \n",
    "    np.array([f_counts['Full -> Gone'], (np.sum(full_f) - f_counts['Full -> Gone'])])\n",
    "])\n",
    "print sp.stats.binom_test(x = f_counts['Full -> Gone'], n = np.sum(full_f), p = m_counts['Full -> Gone']/np.sum(full_m))"
   ]
  },
  {
   "cell_type": "code",
   "execution_count": null,
   "metadata": {},
   "outputs": [],
   "source": []
  }
 ],
 "metadata": {
  "kernelspec": {
   "display_name": "Python 2",
   "language": "python",
   "name": "python2"
  },
  "language_info": {
   "codemirror_mode": {
    "name": "ipython",
    "version": 2
   },
   "file_extension": ".py",
   "mimetype": "text/x-python",
   "name": "python",
   "nbconvert_exporter": "python",
   "pygments_lexer": "ipython2",
   "version": "2.7.14"
  }
 },
 "nbformat": 4,
 "nbformat_minor": 2
}
