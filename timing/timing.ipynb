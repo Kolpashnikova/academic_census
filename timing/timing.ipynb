{
 "cells": [
  {
   "cell_type": "code",
   "execution_count": 18,
   "metadata": {},
   "outputs": [],
   "source": [
    "import numpy as np\n",
    "import matplotlib\n",
    "import matplotlib.pyplot as plt\n",
    "import json\n",
    "\n",
    "from collections import Counter\n",
    "from faculty_hiring.misc.plotting import *  # Definitions for LABEL_SIZE and such"
   ]
  },
  {
   "cell_type": "code",
   "execution_count": 19,
   "metadata": {},
   "outputs": [],
   "source": [
    "## Traversals for Section 4.1 (\"Navigate and classify\")\n",
    "\n",
    "with open('traversals.json') as data_file:    \n",
    "    empirical = json.load(data_file)\n",
    "    \n",
    "with open('dijkstra_traversals.json') as data_file:    \n",
    "    truth = json.load(data_file)"
   ]
  },
  {
   "cell_type": "code",
   "execution_count": 20,
   "metadata": {},
   "outputs": [
    {
     "name": "stdout",
     "output_type": "stream",
     "text": [
      "Distribution of step distances: {0: 114, 1: 48, 2: 22, 3: 12, 4: 4, 5: 1, 7: 2, 8: 1, 10: 1}\n"
     ]
    },
    {
     "data": {
      "image/png": "[encoded data removed]",
      "text/plain": [
       "<matplotlib.figure.Figure at 0x119f00610>"
      ]
     },
     "metadata": {},
     "output_type": "display_data"
    }
   ],
   "source": [
    "fig = plt.figure(figsize=(6, 3.5), facecolor='white')\n",
    "ax = fig.add_subplot(1, 1, 1)\n",
    "ax.set_frame_on(True)\n",
    "\n",
    "c = Counter()\n",
    "for key, each in empirical.items():\n",
    "    empirical_length = len(each[\"edges\"])\n",
    "    true_length = len(truth[key][\"edges\"])\n",
    "    # print(key, empirical_length, true_length, empirical_length - true_length)\n",
    "    c[empirical_length-true_length] += 1\n",
    "    \n",
    "print(\"Distribution of step distances: {0}\".format(dict(c)))\n",
    "x = dict(c)\n",
    "ys = [y/float(len(empirical.items())) for y in x.values()]\n",
    "\n",
    "ax.bar(x.keys(), ys, color='#7e50ce', edgecolor='None', clip_on=False, zorder=100, align='center')\n",
    "ax.set_ylabel('Fraction of traversals', fontsize=LABEL_SIZE)\n",
    "ax.set_xlabel('Number of extra steps relative to the shortest path', fontsize=LABEL_SIZE)\n",
    "\n",
    "font = {'family' : 'sans', 'sans-serif': 'Helvetica', 'size': LABEL_SIZE}\n",
    "matplotlib.rc('font', **font)\n",
    "\n",
    "plt.tight_layout()\n",
    "\n",
    "ax.set_xticks(np.arange(11))\n",
    "#ax.set_xlim(0,10)\n",
    "\n",
    "bar_width = 1\n",
    "ax.xaxis.set_tick_params(width=bar_width)\n",
    "ax.yaxis.set_tick_params(width=bar_width)\n",
    "\n",
    "ax.set_xticks(np.arange(11) + 0.40*bar_width)\n",
    "ax.set_xticklabels(np.arange(11))\n",
    "\n",
    "finalize(ax)\n",
    "\n",
    "plt.savefig('bar_distribution.tif', format=\"tif\", dpi=1200)\n",
    "plt.show()"
   ]
  },
  {
   "cell_type": "code",
   "execution_count": 21,
   "metadata": {},
   "outputs": [
    {
     "name": "stdout",
     "output_type": "stream",
     "text": [
      "Average excess: 0.882926829268\n"
     ]
    }
   ],
   "source": [
    "print \"Average excess: {0}\".format(np.mean(list(c.elements())))"
   ]
  },
  {
   "cell_type": "code",
   "execution_count": 22,
   "metadata": {},
   "outputs": [
    {
     "name": "stdout",
     "output_type": "stream",
     "text": [
      "Percentage optimal path: 55.6097560976\tPercentage within 1 hop: 79.0243902439\n"
     ]
    }
   ],
   "source": [
    "print \"Percentage optimal path: {0}\\tPercentage within 1 hop: {1}\".format(\n",
    "    dict(c)[0]/float(len(empirical.items()))*100, \n",
    "    sum([value for key, value in dict(c).items() if key <= 1])/float(len(empirical.items()))*100)"
   ]
  },
  {
   "cell_type": "code",
   "execution_count": 23,
   "metadata": {},
   "outputs": [],
   "source": [
    "number_of_hops = []\n",
    "for key, each in empirical.items():\n",
    "    number_of_hops.append(len(each[\"edges\"]))"
   ]
  },
  {
   "cell_type": "code",
   "execution_count": 24,
   "metadata": {},
   "outputs": [
    {
     "name": "stdout",
     "output_type": "stream",
     "text": [
      "Average number of hops: 1.96585365854\n"
     ]
    }
   ],
   "source": [
    "print \"Average number of hops: {0}\".format(np.average(number_of_hops))"
   ]
  },
  {
   "cell_type": "code",
   "execution_count": null,
   "metadata": {},
   "outputs": [],
   "source": []
  }
 ],
 "metadata": {
  "kernelspec": {
   "display_name": "Python 2",
   "language": "python",
   "name": "python2"
  },
  "language_info": {
   "codemirror_mode": {
    "name": "ipython",
    "version": 2
   },
   "file_extension": ".py",
   "mimetype": "text/x-python",
   "name": "python",
   "nbconvert_exporter": "python",
   "pygments_lexer": "ipython2",
   "version": "2.7.14"
  }
 },
 "nbformat": 4,
 "nbformat_minor": 1
}
